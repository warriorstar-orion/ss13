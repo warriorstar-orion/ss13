{
 "cells": [
  {
   "cell_type": "code",
   "execution_count": 222,
   "id": "1fb07417-6d7d-4d95-be91-33fd73de0684",
   "metadata": {},
   "outputs": [],
   "source": [
    "from collections import namedtuple\n",
    "\n",
    "import requests_cache\n",
    "\n",
    "RoundStats = namedtuple('RoundStats', ['blackbox', 'playercounts', 'metadata'])\n",
    "\n",
    "session = requests_cache.CachedSession('api_paradisestation_org')\n",
    "\n",
    "def get_roundstats(round_id):\n",
    "    blackbox = session.get(f\"https://api.paradisestation.org/stats/blackbox/{round_id}\")\n",
    "    playercounts = session.get(f\"https://api.paradisestation.org/stats/playercounts/{round_id}\")\n",
    "    metadata = session.get(f\"https://api.paradisestation.org/stats/metadata/{round_id}\")\n",
    "    return RoundStats(blackbox=blackbox.json(), playercounts=playercounts.json(), metadata=metadata.json())"
   ]
  },
  {
   "cell_type": "code",
   "execution_count": 151,
   "id": "615c8e95-ffad-4df4-978b-e06e68251ed8",
   "metadata": {},
   "outputs": [],
   "source": [
    "import json\n",
    "import toml"
   ]
  },
  {
   "cell_type": "code",
   "execution_count": 145,
   "id": "c488ff47-b0b9-428a-8234-2375389a965a",
   "metadata": {},
   "outputs": [],
   "source": [
    "rd = get_roundstats(36833)\n",
    "jp = [x for x in rd.blackbox if x.get('key_name') == 'job_preferences'][0]\n",
    "jprd = json.loads(jp['raw_data'])\n",
    "manifest = [x for x in rd.blackbox if x.get('key_name') == 'manifest'][0]\n",
    "mrd = json.loads(manifest['raw_data'])"
   ]
  },
  {
   "cell_type": "code",
   "execution_count": 24,
   "id": "85153901-2064-4eaf-a3e3-c97edb9bd58d",
   "metadata": {},
   "outputs": [],
   "source": [
    "class RoundStatsMunger:\n",
    "    def __init__(self, roundstats):\n",
    "        self.roundstats = roundstats\n",
    "        self._cache = dict()\n",
    "\n",
    "    def _get_stat(self, keyname):\n",
    "        if keyname not in self._cache:\n",
    "            for x in self.roundstats.blackbox:\n",
    "                if x.get('key_name') == keyname:\n",
    "                    self._cache[keyname] = json.loads(x['raw_data'])['data']\n",
    "            \n",
    "        return self._cache[keyname]\n",
    "\n",
    "    def raw_manifest(self):\n",
    "        pass"
   ]
  },
  {
   "cell_type": "code",
   "execution_count": 25,
   "id": "3a567049-8edc-49a0-b86f-a3623cee02f9",
   "metadata": {},
   "outputs": [],
   "source": [
    "rsm = RoundStatsMunger(rd)"
   ]
  },
  {
   "cell_type": "code",
   "execution_count": 33,
   "id": "6a66b1cc-cac7-4f9a-bb4f-5596ce2b49e3",
   "metadata": {},
   "outputs": [
    {
     "data": {
      "text/plain": [
       "{'round_id': 36833,\n",
       " 'init_datetime': '2023-08-07T07:54:10',\n",
       " 'start_datetime': '2023-08-07T07:58:54',\n",
       " 'shutdown_datetime': '2023-08-07T09:18:17',\n",
       " 'end_datetime': '2023-08-07T09:16:53',\n",
       " 'commit_hash': '1f7ec479523a098587c5a969d901fc9e6fac26d5',\n",
       " 'game_mode': 'cult',\n",
       " 'game_mode_result': 'cult win - cult win',\n",
       " 'end_state': 'proper completion',\n",
       " 'map_name': 'Cyberiad',\n",
       " 'server_id': 'paradise_main'}"
      ]
     },
     "execution_count": 33,
     "metadata": {},
     "output_type": "execute_result"
    }
   ],
   "source": [
    "rd.metadata"
   ]
  },
  {
   "cell_type": "code",
   "execution_count": 34,
   "id": "1ed52808-0cb0-4dad-b9de-cbcfbe0c36f8",
   "metadata": {},
   "outputs": [],
   "source": [
    "max_count = 100\n",
    "total_count = 0"
   ]
  },
  {
   "cell_type": "code",
   "execution_count": 37,
   "id": "a15d16d1-c296-4fe8-8da8-c2038053bffa",
   "metadata": {},
   "outputs": [],
   "source": [
    "rl = session.get(\"https://api.paradisestation.org/stats/roundlist\").json()"
   ]
  },
  {
   "cell_type": "code",
   "execution_count": 83,
   "id": "3070d441-53d8-4558-b097-dbcf0e8d29cd",
   "metadata": {},
   "outputs": [],
   "source": [
    "offset = min(roundstats.keys()) - 50\n",
    "rl = session.get(f\"https://api.paradisestation.org/stats/roundlist?offset={offset}\").json()"
   ]
  },
  {
   "cell_type": "code",
   "execution_count": 85,
   "id": "cdaeadf6-c5b6-4894-810f-760659543e42",
   "metadata": {},
   "outputs": [],
   "source": [
    "rounds = sorted(set([x['round_id'] for x in rl]))"
   ]
  },
  {
   "cell_type": "code",
   "execution_count": 77,
   "id": "9ae65a05-8c5d-4001-9472-b01e97f898f8",
   "metadata": {},
   "outputs": [
    {
     "data": {
      "text/plain": [
       "36833"
      ]
     },
     "execution_count": 77,
     "metadata": {},
     "output_type": "execute_result"
    }
   ],
   "source": [
    "min(roundstats.keys())"
   ]
  },
  {
   "cell_type": "code",
   "execution_count": 42,
   "id": "9943a8d5-4a94-4d1b-923d-13b0a911ac05",
   "metadata": {},
   "outputs": [],
   "source": [
    "roundstats = dict()"
   ]
  },
  {
   "cell_type": "code",
   "execution_count": 43,
   "id": "43a5f830-d5b4-4016-a6b4-2062616bb4f0",
   "metadata": {},
   "outputs": [],
   "source": [
    "import random"
   ]
  },
  {
   "cell_type": "code",
   "execution_count": 86,
   "id": "5e86d851-a033-49c4-bc27-6ff37edd654d",
   "metadata": {},
   "outputs": [],
   "source": [
    "for r_id in rounds:\n",
    "    if r_id in roundstats:\n",
    "        continue\n",
    "    roundstats[r_id] = get_roundstats(r_id)"
   ]
  },
  {
   "cell_type": "code",
   "execution_count": 46,
   "id": "82c39f9f-7b85-4ad3-8584-7eaa9e2d0797",
   "metadata": {},
   "outputs": [
    {
     "data": {
      "text/plain": [
       "36878"
      ]
     },
     "execution_count": 46,
     "metadata": {},
     "output_type": "execute_result"
    }
   ],
   "source": [
    "random.choice(rounds)"
   ]
  },
  {
   "cell_type": "code",
   "execution_count": 50,
   "id": "399bf7ce-288b-4b0e-892a-148082b96152",
   "metadata": {},
   "outputs": [],
   "source": [
    "blackbox_keys = set()"
   ]
  },
  {
   "cell_type": "code",
   "execution_count": 88,
   "id": "7154e295-6dc9-4a49-8291-ec097aca2832",
   "metadata": {},
   "outputs": [],
   "source": [
    "for rd in roundstats.values():\n",
    "    for x in rd.blackbox:\n",
    "        blackbox_keys.add((x.get('key_name'), x.get('key_type'), x.get('version')))"
   ]
  },
  {
   "cell_type": "code",
   "execution_count": 89,
   "id": "a1f6bb4c-c96e-445b-9d40-6d3ff218e6c1",
   "metadata": {},
   "outputs": [
    {
     "data": {
      "text/plain": [
       "76"
      ]
     },
     "execution_count": 89,
     "metadata": {},
     "output_type": "execute_result"
    }
   ],
   "source": [
    "len(blackbox_keys)"
   ]
  },
  {
   "cell_type": "code",
   "execution_count": 55,
   "id": "aa71c502-a985-4557-9a5a-cf0ef63fec76",
   "metadata": {},
   "outputs": [],
   "source": [
    "rs = roundstats[36878]"
   ]
  },
  {
   "cell_type": "code",
   "execution_count": 66,
   "id": "36d0d82b-0f05-452e-ace6-131c96697d73",
   "metadata": {},
   "outputs": [],
   "source": [
    "rsm = RoundStatsMunger(rs)"
   ]
  },
  {
   "cell_type": "code",
   "execution_count": 154,
   "id": "8a3af03e-150c-4e8f-8f59-0234c869dcb3",
   "metadata": {},
   "outputs": [
    {
     "data": {
      "text/plain": [
       "{(36734, 72),\n",
       " (36736, 71),\n",
       " (36737, 74),\n",
       " (36752, 69),\n",
       " (36774, 76),\n",
       " (36775, 70),\n",
       " (36776, 71),\n",
       " (36777, 72),\n",
       " (36876, 69),\n",
       " (36887, 71)}"
      ]
     },
     "execution_count": 154,
     "metadata": {},
     "output_type": "execute_result"
    }
   ],
   "source": [
    "constrained_rounds"
   ]
  },
  {
   "cell_type": "code",
   "execution_count": 136,
   "id": "ecb843ba-8de2-4a24-abed-0d89df802523",
   "metadata": {},
   "outputs": [
    {
     "name": "stdout",
     "output_type": "stream",
     "text": [
      "Trifecta\n",
      "traitor+changeling\n"
     ]
    }
   ],
   "source": [
    "for x in constrained_rounds:\n",
    "    r_id = x[0]\n",
    "    rs = roundstats[r_id]\n",
    "    print(rs.metadata['game_mode'])"
   ]
  },
  {
   "cell_type": "code",
   "execution_count": 146,
   "id": "445c1e01-b6bc-480a-933e-93e4c2b463c5",
   "metadata": {},
   "outputs": [],
   "source": [
    "slot_amount_names = set([x['name'] for x in t['job_configuration']['job_slot_amounts']])"
   ]
  },
  {
   "cell_type": "code",
   "execution_count": 147,
   "id": "843c30b7-97d1-4165-9421-b1d0dbd8c610",
   "metadata": {},
   "outputs": [],
   "source": [
    "highcount_names = {x for x in highcounts.keys()}"
   ]
  },
  {
   "cell_type": "code",
   "execution_count": 148,
   "id": "9494c7cf-4152-4eed-9559-e21a8264744f",
   "metadata": {},
   "outputs": [
    {
     "data": {
      "text/plain": [
       "{'Nanotrasen Navy Officer',\n",
       " 'Solar Federation General',\n",
       " 'Special Operations Officer',\n",
       " 'Syndicate Officer'}"
      ]
     },
     "execution_count": 148,
     "metadata": {},
     "output_type": "execute_result"
    }
   ],
   "source": [
    "highcount_names - slot_amount_names"
   ]
  },
  {
   "cell_type": "markdown",
   "id": "08028ccd-64aa-48d4-a274-2a148858e8f9",
   "metadata": {},
   "source": [
    "What we are trying to prove: That by opening up highpop job slots before job assignment, more people who ready up roundstart will get the roles they desire, as opposed to not readying up and joining immediately after highpop slots are enabled after roundstart.\n",
    " \n",
    "The number of people who actually readied up for a given round (and weren't just idling/observing) is the number of available job preference tallies. We use the Assistant job as a sentinel since it is either set to never, or low, which means the user wishes to spawn in as an assistant.\n",
    "\n",
    "Also remember that the highpop trigger is _the total number of logged in clients_, irrespective of status, role, or state. "
   ]
  },
  {
   "cell_type": "markdown",
   "id": "91ebd335-c79d-4f49-9b57-e3c0f414bfa4",
   "metadata": {},
   "source": [
    "The highpop and lowpop job slots are given by the config.toml, after it's fully fleshed out to include all available jobs (which it isn't currently)."
   ]
  },
  {
   "cell_type": "code",
   "execution_count": 152,
   "id": "1a7b9d91-ba8a-4b0a-bb81-42e91fdf5f8a",
   "metadata": {},
   "outputs": [
    {
     "data": {
      "text/plain": [
       "(68, 75)"
      ]
     },
     "execution_count": 152,
     "metadata": {},
     "output_type": "execute_result"
    }
   ],
   "source": [
    "t = toml.load(open('D:/ExternalRepos/third_party/Paradise/config/config.toml'))\n",
    "lp = sum([x['lowpop'] for x in t['job_configuration']['job_slot_amounts'] if x['lowpop'] > 0])\n",
    "hp = sum([x['highpop'] for x in t['job_configuration']['job_slot_amounts'] if x['highpop'] > 0])\n",
    "\n",
    "(lp, hp)"
   ]
  },
  {
   "cell_type": "markdown",
   "id": "714ceb80-ac4a-47ee-a2a2-72597facd9c8",
   "metadata": {},
   "source": [
    "So highpop adds 7 more slots to various roles.\n",
    "\n",
    "Now we need to find instances of rounds where there were more readied players than slots, _and what jobs were desired versus assigned_. We also want to ignore rounds that could randomly assign a lot of people to unassignable roles (such a nukies, which can take 5 people, which would obviously throw this off). We also only care about rounds where the roundstart population would have trigged highpop slots."
   ]
  },
  {
   "cell_type": "code",
   "execution_count": 201,
   "id": "22cf1ed0-bbdd-4358-9c9c-9b68de9e9f53",
   "metadata": {},
   "outputs": [
    {
     "data": {
      "text/plain": [
       "[RoundJobStats(round_id=36737, game_mode='Trifecta', ready_count=68, roundstart_client_count=113, roundstart_nonasst_job_count=64),\n",
       " RoundJobStats(round_id=36774, game_mode='traitor+changeling', ready_count=71, roundstart_client_count=98, roundstart_nonasst_job_count=64)]"
      ]
     },
     "execution_count": 201,
     "metadata": {},
     "output_type": "execute_result"
    }
   ],
   "source": [
    "from collections import namedtuple\n",
    "\n",
    "RoundJobStats = namedtuple('RoundJobStats', ['round_id', 'game_mode', 'ready_count', 'roundstart_client_count', 'roundstart_nonasst_job_count']) \n",
    "\n",
    "constrained_rounds = list()\n",
    "\n",
    "for r_id, rs in sorted(roundstats.items()):\n",
    "    rsm = RoundStatsMunger(rs)\n",
    "    rjs = RoundJobStats(\n",
    "        round_id = r_id,\n",
    "        game_mode = rs.metadata['game_mode'],\n",
    "        ready_count = rsm._get_stat('job_preferences')['Assistant']['never'],\n",
    "        roundstart_client_count = sorted(rs.playercounts.items())[0][-1],\n",
    "        roundstart_nonasst_job_count = sum([y.get(\"roundstart\", 0) for x,y in rsm._get_stat('manifest').items() if x != 'Assistant']),\n",
    "    )\n",
    " #   print(rjs)\n",
    "    if rjs.ready_count >= lp and rjs.roundstart_client_count >= 80:\n",
    "        constrained_rounds.append(rjs)\n",
    "#    print(f\"{rjs.round_id}: {rjs.ready_count - rjs.roundstart_nonasst_job_count}\")\n",
    "\n",
    "constrained_rounds"
   ]
  },
  {
   "cell_type": "markdown",
   "id": "dfc56dde-6770-4153-926d-d54b68e025de",
   "metadata": {},
   "source": [
    "So let's collect everything we know about a round. We want:\n",
    "\n",
    "- The roundstart client population.\n",
    "- The number of readied players on roundstart.\n",
    "- The \"highcounts\" for each role (number of readied players who set that job to high)\n",
    "- The actual roundstart job assignment counts\n",
    "- How many people actually spawned in, roundstart, that weren't assistants\n",
    "\n",
    "Something we can't have data on is how many people know about this quirk in job assignment and intentionally do not ready up so that they can immediately latejoin with their desired role. That's okay for the time being, because what we want to use as our sample population is people who do set up their job preferences and ready up with the expectation they will be assigned a desirable role if available. That's the group we care about comparing against TMed rounds where highpop slots are enabled before assignment (while we do have latejoin stats they are aggregated across the entire round's runtime)."
   ]
  },
  {
   "cell_type": "code",
   "execution_count": 185,
   "id": "11f50d10-5a6d-4cec-9fdc-9bbf1bb33f11",
   "metadata": {},
   "outputs": [],
   "source": [
    "rs = roundstats[36737]\n",
    "rsm = RoundStatsMunger(rs)\n",
    "\n",
    "roundstart_client_population = sorted(rs.playercounts.items())[0][-1]\n",
    "readied_player_count = rsm._get_stat('job_preferences')['Nanotrasen Navy Officer']['never']\n",
    "prefcounts = dict()\n",
    "\n",
    "for name, data in rsm._get_stat('job_preferences').items():\n",
    "    ct = sum([y for x,y in data.items() if x in ('high', 'medium', 'low',)])\n",
    "    if ct:\n",
    "        prefcounts[name] = ct\n",
    "\n",
    "roundstart_jobs = {x: y.get(\"roundstart\", 0) for x,y in rsm._get_stat('manifest').items() if x != 'Assistant'}\n",
    "roundstart_spawn_count = sum([y.get(\"roundstart\", 0) for x,y in rsm._get_stat('manifest').items() if x != 'Assistant'])"
   ]
  },
  {
   "cell_type": "code",
   "execution_count": 176,
   "id": "2d3210c7-6259-4517-a4a6-8b1aab5daff9",
   "metadata": {},
   "outputs": [
    {
     "data": {
      "text/plain": [
       "(113, 74, 64)"
      ]
     },
     "execution_count": 176,
     "metadata": {},
     "output_type": "execute_result"
    }
   ],
   "source": [
    "roundstart_client_population, readied_player_count, roundstart_spawn_count"
   ]
  },
  {
   "cell_type": "markdown",
   "id": "7b4e8760-4bf9-44c2-889e-1f7b3847f5cd",
   "metadata": {},
   "source": [
    "Okay so there were 113 clients on this round, 74 readied players, and 64 roundstart spawns. This is four less than the gross lowpop slot count, so four players got booted back to the lobby. Would those players have gotten in if the highpop map were enabled? Possibly. There could have been five high preferences for Captain but obviously that wouldn't change."
   ]
  },
  {
   "cell_type": "code",
   "execution_count": 179,
   "id": "eb145703-8d54-48cb-869d-e5e0659d456e",
   "metadata": {},
   "outputs": [
    {
     "data": {
      "text/plain": [
       "{'Assistant': 6,\n",
       " 'Chief Engineer': 6,\n",
       " 'Station Engineer': 30,\n",
       " 'Life Support Specialist': 21,\n",
       " 'Chief Medical Officer': 9,\n",
       " 'Medical Doctor': 33,\n",
       " 'Coroner': 19,\n",
       " 'Chemist': 19,\n",
       " 'Geneticist': 16,\n",
       " 'Virologist': 18,\n",
       " 'Psychiatrist': 13,\n",
       " 'Paramedic': 24,\n",
       " 'Research Director': 3,\n",
       " 'Scientist': 32,\n",
       " 'Roboticist': 22,\n",
       " 'Head of Security': 8,\n",
       " 'Warden': 9,\n",
       " 'Detective': 20,\n",
       " 'Security Officer': 34,\n",
       " 'AI': 15,\n",
       " 'Cyborg': 21,\n",
       " 'Captain': 6,\n",
       " 'Head of Personnel': 7,\n",
       " 'Nanotrasen Representative': 5,\n",
       " 'Blueshield': 11,\n",
       " 'Magistrate': 2,\n",
       " 'Internal Affairs Agent': 11,\n",
       " 'Quartermaster': 19,\n",
       " 'Cargo Technician': 27,\n",
       " 'Shaft Miner': 35,\n",
       " 'Bartender': 24,\n",
       " 'Chef': 23,\n",
       " 'Botanist': 21,\n",
       " 'Clown': 19,\n",
       " 'Mime': 16,\n",
       " 'Janitor': 36,\n",
       " 'Librarian': 14,\n",
       " 'Barber': 9,\n",
       " 'Explorer': 15,\n",
       " 'Chaplain': 17}"
      ]
     },
     "execution_count": 179,
     "metadata": {},
     "output_type": "execute_result"
    }
   ],
   "source": [
    "prefcounts"
   ]
  },
  {
   "cell_type": "markdown",
   "id": "92062092-c4ef-491a-b0bc-c134bdcae0de",
   "metadata": {},
   "source": [
    "Let's say someone wanted to play engineer. There are 5 lowpop and 6 highpop slots. "
   ]
  },
  {
   "cell_type": "code",
   "execution_count": 186,
   "id": "28bc1dad-0889-474e-a779-a5f3b6efaa9e",
   "metadata": {},
   "outputs": [
    {
     "data": {
      "text/plain": [
       "{'Medical Doctor': 3,\n",
       " 'Explorer': 4,\n",
       " 'Psychiatrist': 1,\n",
       " 'Security Officer': 7,\n",
       " 'Scientist': 5,\n",
       " 'Chef': 1,\n",
       " 'Clown': 1,\n",
       " 'Cargo Technician': 2,\n",
       " 'Mime': 1,\n",
       " 'Virologist': 1,\n",
       " 'Geneticist': 2,\n",
       " 'Barber': 1,\n",
       " 'Shaft Miner': 8,\n",
       " 'Chief Medical Officer': 1,\n",
       " 'Blueshield': 1,\n",
       " 'Station Engineer': 2,\n",
       " 'Research Director': 1,\n",
       " 'Bartender': 1,\n",
       " 'Cyborg': 2,\n",
       " 'Janitor': 1,\n",
       " 'Nanotrasen Representative': 1,\n",
       " 'Head of Personnel': 1,\n",
       " 'Chemist': 2,\n",
       " 'Captain': 1,\n",
       " 'Coroner': 1,\n",
       " 'Internal Affairs Agent': 1,\n",
       " 'Botanist': 2,\n",
       " 'Paramedic': 1,\n",
       " 'Life Support Specialist': 2,\n",
       " 'Chaplain': 1,\n",
       " 'Roboticist': 2,\n",
       " 'Quartermaster': 1,\n",
       " 'Detective': 1,\n",
       " 'Librarian': 1,\n",
       " 'Magistrate': 0,\n",
       " 'Warden': 0,\n",
       " 'AI': 0}"
      ]
     },
     "execution_count": 186,
     "metadata": {},
     "output_type": "execute_result"
    }
   ],
   "source": [
    "roundstart_jobs"
   ]
  },
  {
   "cell_type": "code",
   "execution_count": 214,
   "id": "85893c3b-6d7b-44b0-a865-358a206b8f45",
   "metadata": {},
   "outputs": [],
   "source": [
    "highpop_additions = dict()\n",
    "for role in t['job_configuration']['job_slot_amounts']:\n",
    "    hp = role.get('highpop', -1)\n",
    "    lp = role.get('lowpop', -1)\n",
    "    if hp > lp and lp > 0:\n",
    "        highpop_additions[role.get('name')] = (lp, hp, hp - role.get('lowpop', 0))\n",
    "        "
   ]
  },
  {
   "cell_type": "code",
   "execution_count": 215,
   "id": "15ec5dbe-47ac-469c-9b9a-27c789d681c2",
   "metadata": {},
   "outputs": [
    {
     "data": {
      "text/plain": [
       "{'Life Support Specialist': (3, 4, 1),\n",
       " 'Station Engineer': (5, 6, 1),\n",
       " 'Medical Doctor': (5, 6, 1),\n",
       " 'Scientist': (6, 7, 1),\n",
       " 'Security Officer': (8, 9, 1),\n",
       " 'Janitor': (1, 2, 1),\n",
       " 'Cargo Technician': (3, 4, 1)}"
      ]
     },
     "execution_count": 215,
     "metadata": {},
     "output_type": "execute_result"
    }
   ],
   "source": [
    "highpop_additions"
   ]
  },
  {
   "cell_type": "code",
   "execution_count": 216,
   "id": "7c2be700-076c-49ec-9052-f7ad7cf5730a",
   "metadata": {},
   "outputs": [
    {
     "data": {
      "text/plain": [
       "{'Station Engineer': 1,\n",
       " 'Medical Doctor': 2,\n",
       " 'Scientist': 3,\n",
       " 'Security Officer': 5,\n",
       " 'Janitor': 3}"
      ]
     },
     "execution_count": 216,
     "metadata": {},
     "output_type": "execute_result"
    }
   ],
   "source": [
    "prefcounts2 = dict()\n",
    "\n",
    "for name in highpop_additions.keys():\n",
    "    ct = sum([y for x,y in rsm._get_stat('job_preferences')[name].items() if x == 'high'])\n",
    "    if ct:\n",
    "        prefcounts2[name] = ct\n",
    "\n",
    "prefcounts2"
   ]
  },
  {
   "cell_type": "code",
   "execution_count": 220,
   "id": "caebefef-8817-43c5-a20a-f2b525ad97f1",
   "metadata": {},
   "outputs": [],
   "source": [
    "roundstart_jobs = {x: y.get(\"roundstart\", 0) for x,y in rsm._get_stat('manifest').items() if x in prefcounts2}"
   ]
  },
  {
   "cell_type": "code",
   "execution_count": 221,
   "id": "584b9e06-ad2b-4e17-8607-55177299c9cb",
   "metadata": {},
   "outputs": [
    {
     "data": {
      "text/plain": [
       "{'Security Officer': 6,\n",
       " 'Janitor': 1,\n",
       " 'Medical Doctor': 3,\n",
       " 'Scientist': 6,\n",
       " 'Station Engineer': 2}"
      ]
     },
     "execution_count": 221,
     "metadata": {},
     "output_type": "execute_result"
    }
   ],
   "source": [
    "roundstart_jobs"
   ]
  },
  {
   "cell_type": "code",
   "execution_count": null,
   "id": "05e6fba0-b92b-4935-96f1-bdd25f827369",
   "metadata": {},
   "outputs": [],
   "source": []
  }
 ],
 "metadata": {
  "kernelspec": {
   "display_name": "Python 3 (ipykernel)",
   "language": "python",
   "name": "python3"
  },
  "language_info": {
   "codemirror_mode": {
    "name": "ipython",
    "version": 3
   },
   "file_extension": ".py",
   "mimetype": "text/x-python",
   "name": "python",
   "nbconvert_exporter": "python",
   "pygments_lexer": "ipython3",
   "version": "3.10.11"
  }
 },
 "nbformat": 4,
 "nbformat_minor": 5
}
